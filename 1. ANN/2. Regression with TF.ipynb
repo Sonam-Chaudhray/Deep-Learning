{
 "cells": [
  {
   "cell_type": "markdown",
   "metadata": {},
   "source": [
    "# Import Libraries"
   ]
  },
  {
   "cell_type": "code",
   "execution_count": 130,
   "metadata": {},
   "outputs": [],
   "source": [
    "import pandas as pd\n",
    "import numpy as np\n",
    "\n",
    "import tensorflow as tf\n",
    "import matplotlib.pyplot as plt\n",
    "\n",
    "from sklearn.model_selection import train_test_split\n",
    "from sklearn.preprocessing import LabelEncoder, StandardScaler\n",
    "from tensorflow.keras.models import Sequential\n",
    "from tensorflow.keras.layers import Dense"
   ]
  },
  {
   "cell_type": "markdown",
   "metadata": {},
   "source": [
    "# Import DataFrame"
   ]
  },
  {
   "cell_type": "code",
   "execution_count": 131,
   "metadata": {},
   "outputs": [],
   "source": [
    "df = pd.read_csv('data/Salary_multiple.csv')"
   ]
  },
  {
   "cell_type": "markdown",
   "metadata": {},
   "source": [
    "# Preprocessing"
   ]
  },
  {
   "cell_type": "code",
   "execution_count": 132,
   "metadata": {},
   "outputs": [
    {
     "data": {
      "text/html": [
       "<div>\n",
       "<style scoped>\n",
       "    .dataframe tbody tr th:only-of-type {\n",
       "        vertical-align: middle;\n",
       "    }\n",
       "\n",
       "    .dataframe tbody tr th {\n",
       "        vertical-align: top;\n",
       "    }\n",
       "\n",
       "    .dataframe thead th {\n",
       "        text-align: right;\n",
       "    }\n",
       "</style>\n",
       "<table border=\"1\" class=\"dataframe\">\n",
       "  <thead>\n",
       "    <tr style=\"text-align: right;\">\n",
       "      <th></th>\n",
       "      <th>YearsExperience</th>\n",
       "      <th>Field</th>\n",
       "      <th>Salary</th>\n",
       "    </tr>\n",
       "  </thead>\n",
       "  <tbody>\n",
       "    <tr>\n",
       "      <th>0</th>\n",
       "      <td>1.1</td>\n",
       "      <td>Technical</td>\n",
       "      <td>39343.0</td>\n",
       "    </tr>\n",
       "    <tr>\n",
       "      <th>1</th>\n",
       "      <td>1.3</td>\n",
       "      <td>Non-Technical</td>\n",
       "      <td>26205.0</td>\n",
       "    </tr>\n",
       "    <tr>\n",
       "      <th>2</th>\n",
       "      <td>1.5</td>\n",
       "      <td>Technical</td>\n",
       "      <td>37731.0</td>\n",
       "    </tr>\n",
       "    <tr>\n",
       "      <th>3</th>\n",
       "      <td>2.0</td>\n",
       "      <td>Non-Technical</td>\n",
       "      <td>28525.0</td>\n",
       "    </tr>\n",
       "    <tr>\n",
       "      <th>4</th>\n",
       "      <td>2.2</td>\n",
       "      <td>Technical</td>\n",
       "      <td>39891.0</td>\n",
       "    </tr>\n",
       "  </tbody>\n",
       "</table>\n",
       "</div>"
      ],
      "text/plain": [
       "   YearsExperience          Field   Salary\n",
       "0              1.1      Technical  39343.0\n",
       "1              1.3  Non-Technical  26205.0\n",
       "2              1.5      Technical  37731.0\n",
       "3              2.0  Non-Technical  28525.0\n",
       "4              2.2      Technical  39891.0"
      ]
     },
     "execution_count": 132,
     "metadata": {},
     "output_type": "execute_result"
    }
   ],
   "source": [
    "df.head()"
   ]
  },
  {
   "cell_type": "code",
   "execution_count": 133,
   "metadata": {},
   "outputs": [],
   "source": [
    "encoder = LabelEncoder()\n",
    "df['Field'] = encoder.fit_transform(df['Field'])"
   ]
  },
  {
   "cell_type": "code",
   "execution_count": 134,
   "metadata": {},
   "outputs": [
    {
     "data": {
      "text/html": [
       "<div>\n",
       "<style scoped>\n",
       "    .dataframe tbody tr th:only-of-type {\n",
       "        vertical-align: middle;\n",
       "    }\n",
       "\n",
       "    .dataframe tbody tr th {\n",
       "        vertical-align: top;\n",
       "    }\n",
       "\n",
       "    .dataframe thead th {\n",
       "        text-align: right;\n",
       "    }\n",
       "</style>\n",
       "<table border=\"1\" class=\"dataframe\">\n",
       "  <thead>\n",
       "    <tr style=\"text-align: right;\">\n",
       "      <th></th>\n",
       "      <th>YearsExperience</th>\n",
       "      <th>Field</th>\n",
       "      <th>Salary</th>\n",
       "    </tr>\n",
       "  </thead>\n",
       "  <tbody>\n",
       "    <tr>\n",
       "      <th>0</th>\n",
       "      <td>1.1</td>\n",
       "      <td>1</td>\n",
       "      <td>39343.0</td>\n",
       "    </tr>\n",
       "    <tr>\n",
       "      <th>1</th>\n",
       "      <td>1.3</td>\n",
       "      <td>0</td>\n",
       "      <td>26205.0</td>\n",
       "    </tr>\n",
       "    <tr>\n",
       "      <th>2</th>\n",
       "      <td>1.5</td>\n",
       "      <td>1</td>\n",
       "      <td>37731.0</td>\n",
       "    </tr>\n",
       "    <tr>\n",
       "      <th>3</th>\n",
       "      <td>2.0</td>\n",
       "      <td>0</td>\n",
       "      <td>28525.0</td>\n",
       "    </tr>\n",
       "    <tr>\n",
       "      <th>4</th>\n",
       "      <td>2.2</td>\n",
       "      <td>1</td>\n",
       "      <td>39891.0</td>\n",
       "    </tr>\n",
       "  </tbody>\n",
       "</table>\n",
       "</div>"
      ],
      "text/plain": [
       "   YearsExperience  Field   Salary\n",
       "0              1.1      1  39343.0\n",
       "1              1.3      0  26205.0\n",
       "2              1.5      1  37731.0\n",
       "3              2.0      0  28525.0\n",
       "4              2.2      1  39891.0"
      ]
     },
     "execution_count": 134,
     "metadata": {},
     "output_type": "execute_result"
    }
   ],
   "source": [
    "df.head()"
   ]
  },
  {
   "cell_type": "code",
   "execution_count": 135,
   "metadata": {},
   "outputs": [],
   "source": [
    "scaler = StandardScaler()\n",
    "df[['YearsExperience', 'Salary']] = scaler.fit_transform(df[['YearsExperience', 'Salary']])"
   ]
  },
  {
   "cell_type": "markdown",
   "metadata": {},
   "source": [
    "# Split to X and Y"
   ]
  },
  {
   "cell_type": "code",
   "execution_count": 136,
   "metadata": {},
   "outputs": [],
   "source": [
    "X = df[['YearsExperience']].values\n",
    "y = df['Salary']"
   ]
  },
  {
   "cell_type": "code",
   "execution_count": 137,
   "metadata": {},
   "outputs": [],
   "source": [
    "X=X.reshape(-1,1)"
   ]
  },
  {
   "cell_type": "markdown",
   "metadata": {},
   "source": [
    "# Split"
   ]
  },
  {
   "cell_type": "code",
   "execution_count": 138,
   "metadata": {},
   "outputs": [],
   "source": [
    "X_train, X_test, y_train, y_test = train_test_split(X, y, test_size=0.2, random_state=29)"
   ]
  },
  {
   "cell_type": "markdown",
   "metadata": {},
   "source": [
    "# Build Model"
   ]
  },
  {
   "cell_type": "code",
   "execution_count": 139,
   "metadata": {},
   "outputs": [],
   "source": [
    "# Build the neural network model\n",
    "model = Sequential([\n",
    "    Dense(4, activation='linear', input_shape=(X_train.shape[1],)),\n",
    "    Dense(1, activation='sigmoid'),\n",
    "    # Dense(1, activation='linear')  # No activation function for output layer (regression problem)\n",
    "])"
   ]
  },
  {
   "cell_type": "code",
   "execution_count": 140,
   "metadata": {},
   "outputs": [
    {
     "name": "stdout",
     "output_type": "stream",
     "text": [
      "Model: \"sequential_4\"\n",
      "_________________________________________________________________\n",
      " Layer (type)                Output Shape              Param #   \n",
      "=================================================================\n",
      " dense_8 (Dense)             (None, 4)                 8         \n",
      "                                                                 \n",
      " dense_9 (Dense)             (None, 1)                 5         \n",
      "                                                                 \n",
      "=================================================================\n",
      "Total params: 13 (52.00 Byte)\n",
      "Trainable params: 13 (52.00 Byte)\n",
      "Non-trainable params: 0 (0.00 Byte)\n",
      "_________________________________________________________________\n"
     ]
    }
   ],
   "source": [
    "model.summary()"
   ]
  },
  {
   "cell_type": "markdown",
   "metadata": {},
   "source": [
    "# Compile"
   ]
  },
  {
   "cell_type": "code",
   "execution_count": 141,
   "metadata": {},
   "outputs": [],
   "source": [
    "optimizer = tf.keras.optimizers.SGD(learning_rate=0.01)\n",
    "model.compile(optimizer=optimizer, loss='mean_absolute_error',metrics=['accuracy'])"
   ]
  },
  {
   "cell_type": "code",
   "execution_count": 142,
   "metadata": {},
   "outputs": [
    {
     "data": {
      "text/plain": [
       "24"
      ]
     },
     "execution_count": 142,
     "metadata": {},
     "output_type": "execute_result"
    }
   ],
   "source": [
    "len(X_train)"
   ]
  },
  {
   "cell_type": "markdown",
   "metadata": {},
   "source": [
    "# Tensorboard"
   ]
  },
  {
   "cell_type": "code",
   "execution_count": 143,
   "metadata": {},
   "outputs": [],
   "source": [
    "# log_dir = \"logs/regression_tf/\" + datetime.datetime.now().strftime(\"%Y%m%d-%H%M%S\")\n",
    "log_dir = \"logs/regression_tf/\"\n",
    "tensorboard_callback = tf.keras.callbacks.TensorBoard(log_dir=log_dir, histogram_freq=1)"
   ]
  },
  {
   "cell_type": "code",
   "execution_count": 144,
   "metadata": {},
   "outputs": [
    {
     "name": "stdout",
     "output_type": "stream",
     "text": [
      "Epoch 1/50\n",
      "3/3 [==============================] - 1s 205ms/step - loss: 1.1095 - accuracy: 0.0000e+00 - val_loss: 0.8703 - val_accuracy: 0.0000e+00\n",
      "Epoch 2/50\n",
      "3/3 [==============================] - 0s 92ms/step - loss: 1.1066 - accuracy: 0.0000e+00 - val_loss: 0.8687 - val_accuracy: 0.0000e+00\n",
      "Epoch 3/50\n",
      "3/3 [==============================] - 0s 91ms/step - loss: 1.1037 - accuracy: 0.0000e+00 - val_loss: 0.8670 - val_accuracy: 0.0000e+00\n",
      "Epoch 4/50\n",
      "3/3 [==============================] - 0s 91ms/step - loss: 1.1009 - accuracy: 0.0000e+00 - val_loss: 0.8654 - val_accuracy: 0.0000e+00\n",
      "Epoch 5/50\n",
      "3/3 [==============================] - 0s 91ms/step - loss: 1.0979 - accuracy: 0.0000e+00 - val_loss: 0.8637 - val_accuracy: 0.0000e+00\n",
      "Epoch 6/50\n",
      "3/3 [==============================] - 0s 112ms/step - loss: 1.0951 - accuracy: 0.0000e+00 - val_loss: 0.8621 - val_accuracy: 0.0000e+00\n",
      "Epoch 7/50\n",
      "3/3 [==============================] - 0s 113ms/step - loss: 1.0921 - accuracy: 0.0000e+00 - val_loss: 0.8604 - val_accuracy: 0.0000e+00\n",
      "Epoch 8/50\n",
      "3/3 [==============================] - 0s 113ms/step - loss: 1.0892 - accuracy: 0.0000e+00 - val_loss: 0.8588 - val_accuracy: 0.0000e+00\n",
      "Epoch 9/50\n",
      "3/3 [==============================] - 0s 124ms/step - loss: 1.0864 - accuracy: 0.0000e+00 - val_loss: 0.8571 - val_accuracy: 0.0000e+00\n",
      "Epoch 10/50\n",
      "3/3 [==============================] - 0s 96ms/step - loss: 1.0835 - accuracy: 0.0000e+00 - val_loss: 0.8554 - val_accuracy: 0.0000e+00\n",
      "Epoch 11/50\n",
      "3/3 [==============================] - 0s 91ms/step - loss: 1.0805 - accuracy: 0.0000e+00 - val_loss: 0.8537 - val_accuracy: 0.0000e+00\n",
      "Epoch 12/50\n",
      "3/3 [==============================] - 0s 102ms/step - loss: 1.0776 - accuracy: 0.0000e+00 - val_loss: 0.8521 - val_accuracy: 0.0000e+00\n",
      "Epoch 13/50\n",
      "3/3 [==============================] - 0s 97ms/step - loss: 1.0747 - accuracy: 0.0000e+00 - val_loss: 0.8504 - val_accuracy: 0.0000e+00\n",
      "Epoch 14/50\n",
      "3/3 [==============================] - 0s 97ms/step - loss: 1.0717 - accuracy: 0.0000e+00 - val_loss: 0.8487 - val_accuracy: 0.0000e+00\n",
      "Epoch 15/50\n",
      "3/3 [==============================] - 0s 91ms/step - loss: 1.0688 - accuracy: 0.0000e+00 - val_loss: 0.8470 - val_accuracy: 0.0000e+00\n",
      "Epoch 16/50\n",
      "3/3 [==============================] - 0s 96ms/step - loss: 1.0658 - accuracy: 0.0000e+00 - val_loss: 0.8453 - val_accuracy: 0.0000e+00\n",
      "Epoch 17/50\n",
      "3/3 [==============================] - 0s 92ms/step - loss: 1.0629 - accuracy: 0.0000e+00 - val_loss: 0.8436 - val_accuracy: 0.0000e+00\n",
      "Epoch 18/50\n",
      "3/3 [==============================] - 0s 97ms/step - loss: 1.0599 - accuracy: 0.0000e+00 - val_loss: 0.8419 - val_accuracy: 0.0000e+00\n",
      "Epoch 19/50\n",
      "3/3 [==============================] - 0s 102ms/step - loss: 1.0570 - accuracy: 0.0000e+00 - val_loss: 0.8402 - val_accuracy: 0.0000e+00\n",
      "Epoch 20/50\n",
      "3/3 [==============================] - 0s 97ms/step - loss: 1.0540 - accuracy: 0.0000e+00 - val_loss: 0.8390 - val_accuracy: 0.0000e+00\n",
      "Epoch 21/50\n",
      "3/3 [==============================] - 0s 92ms/step - loss: 1.0510 - accuracy: 0.0000e+00 - val_loss: 0.8379 - val_accuracy: 0.0000e+00\n",
      "Epoch 22/50\n",
      "3/3 [==============================] - 0s 96ms/step - loss: 1.0480 - accuracy: 0.0000e+00 - val_loss: 0.8367 - val_accuracy: 0.0000e+00\n",
      "Epoch 23/50\n",
      "3/3 [==============================] - 0s 91ms/step - loss: 1.0451 - accuracy: 0.0000e+00 - val_loss: 0.8356 - val_accuracy: 0.0000e+00\n",
      "Epoch 24/50\n",
      "3/3 [==============================] - 0s 86ms/step - loss: 1.0420 - accuracy: 0.0000e+00 - val_loss: 0.8344 - val_accuracy: 0.0000e+00\n",
      "Epoch 25/50\n",
      "3/3 [==============================] - 0s 95ms/step - loss: 1.0391 - accuracy: 0.0000e+00 - val_loss: 0.8333 - val_accuracy: 0.0000e+00\n",
      "Epoch 26/50\n",
      "3/3 [==============================] - 0s 96ms/step - loss: 1.0362 - accuracy: 0.0000e+00 - val_loss: 0.8321 - val_accuracy: 0.0000e+00\n",
      "Epoch 27/50\n",
      "3/3 [==============================] - 0s 93ms/step - loss: 1.0331 - accuracy: 0.0000e+00 - val_loss: 0.8310 - val_accuracy: 0.0000e+00\n",
      "Epoch 28/50\n",
      "3/3 [==============================] - 0s 97ms/step - loss: 1.0301 - accuracy: 0.0000e+00 - val_loss: 0.8298 - val_accuracy: 0.0000e+00\n",
      "Epoch 29/50\n",
      "3/3 [==============================] - 0s 97ms/step - loss: 1.0271 - accuracy: 0.0000e+00 - val_loss: 0.8287 - val_accuracy: 0.0000e+00\n",
      "Epoch 30/50\n",
      "3/3 [==============================] - 0s 123ms/step - loss: 1.0242 - accuracy: 0.0000e+00 - val_loss: 0.8275 - val_accuracy: 0.0000e+00\n",
      "Epoch 31/50\n",
      "3/3 [==============================] - 0s 96ms/step - loss: 1.0212 - accuracy: 0.0000e+00 - val_loss: 0.8263 - val_accuracy: 0.0000e+00\n",
      "Epoch 32/50\n",
      "3/3 [==============================] - 0s 96ms/step - loss: 1.0182 - accuracy: 0.0000e+00 - val_loss: 0.8252 - val_accuracy: 0.0000e+00\n",
      "Epoch 33/50\n",
      "3/3 [==============================] - 0s 90ms/step - loss: 1.0152 - accuracy: 0.0000e+00 - val_loss: 0.8240 - val_accuracy: 0.0000e+00\n",
      "Epoch 34/50\n",
      "3/3 [==============================] - 0s 92ms/step - loss: 1.0123 - accuracy: 0.0000e+00 - val_loss: 0.8229 - val_accuracy: 0.0000e+00\n",
      "Epoch 35/50\n",
      "3/3 [==============================] - 0s 91ms/step - loss: 1.0095 - accuracy: 0.0000e+00 - val_loss: 0.8217 - val_accuracy: 0.0000e+00\n",
      "Epoch 36/50\n",
      "3/3 [==============================] - 0s 91ms/step - loss: 1.0063 - accuracy: 0.0000e+00 - val_loss: 0.8206 - val_accuracy: 0.0000e+00\n",
      "Epoch 37/50\n",
      "3/3 [==============================] - 0s 91ms/step - loss: 1.0034 - accuracy: 0.0000e+00 - val_loss: 0.8194 - val_accuracy: 0.0000e+00\n",
      "Epoch 38/50\n",
      "3/3 [==============================] - 0s 113ms/step - loss: 1.0004 - accuracy: 0.0000e+00 - val_loss: 0.8183 - val_accuracy: 0.0000e+00\n",
      "Epoch 39/50\n",
      "3/3 [==============================] - 0s 92ms/step - loss: 0.9975 - accuracy: 0.0000e+00 - val_loss: 0.8171 - val_accuracy: 0.0000e+00\n",
      "Epoch 40/50\n",
      "3/3 [==============================] - 0s 92ms/step - loss: 0.9944 - accuracy: 0.0000e+00 - val_loss: 0.8160 - val_accuracy: 0.0000e+00\n",
      "Epoch 41/50\n",
      "3/3 [==============================] - 0s 91ms/step - loss: 0.9915 - accuracy: 0.0000e+00 - val_loss: 0.8149 - val_accuracy: 0.0000e+00\n",
      "Epoch 42/50\n",
      "3/3 [==============================] - 0s 91ms/step - loss: 0.9886 - accuracy: 0.0000e+00 - val_loss: 0.8137 - val_accuracy: 0.0000e+00\n",
      "Epoch 43/50\n",
      "3/3 [==============================] - 0s 92ms/step - loss: 0.9855 - accuracy: 0.0000e+00 - val_loss: 0.8126 - val_accuracy: 0.0000e+00\n",
      "Epoch 44/50\n",
      "3/3 [==============================] - 0s 91ms/step - loss: 0.9827 - accuracy: 0.0000e+00 - val_loss: 0.8114 - val_accuracy: 0.0000e+00\n",
      "Epoch 45/50\n",
      "3/3 [==============================] - 0s 92ms/step - loss: 0.9796 - accuracy: 0.0000e+00 - val_loss: 0.8103 - val_accuracy: 0.0000e+00\n",
      "Epoch 46/50\n",
      "3/3 [==============================] - 0s 91ms/step - loss: 0.9767 - accuracy: 0.0000e+00 - val_loss: 0.8092 - val_accuracy: 0.0000e+00\n",
      "Epoch 47/50\n",
      "3/3 [==============================] - 0s 92ms/step - loss: 0.9737 - accuracy: 0.0000e+00 - val_loss: 0.8080 - val_accuracy: 0.0000e+00\n",
      "Epoch 48/50\n",
      "3/3 [==============================] - 0s 96ms/step - loss: 0.9707 - accuracy: 0.0000e+00 - val_loss: 0.8069 - val_accuracy: 0.0000e+00\n",
      "Epoch 49/50\n",
      "3/3 [==============================] - 0s 91ms/step - loss: 0.9679 - accuracy: 0.0000e+00 - val_loss: 0.8058 - val_accuracy: 0.0000e+00\n",
      "Epoch 50/50\n",
      "3/3 [==============================] - 0s 92ms/step - loss: 0.9649 - accuracy: 0.0000e+00 - val_loss: 0.8047 - val_accuracy: 0.0000e+00\n"
     ]
    }
   ],
   "source": [
    "# Train the model\n",
    "history = model.fit(X_train, y_train, epochs=50, batch_size=8 , validation_data=(X_test, y_test), callbacks=[tensorboard_callback])"
   ]
  },
  {
   "cell_type": "code",
   "execution_count": 145,
   "metadata": {},
   "outputs": [
    {
     "name": "stdout",
     "output_type": "stream",
     "text": [
      "1/1 [==============================] - 0s 63ms/step\n"
     ]
    }
   ],
   "source": [
    "y_pred = model.predict(X)"
   ]
  },
  {
   "cell_type": "code",
   "execution_count": 146,
   "metadata": {},
   "outputs": [
    {
     "data": {
      "text/plain": [
       "30"
      ]
     },
     "execution_count": 146,
     "metadata": {},
     "output_type": "execute_result"
    }
   ],
   "source": [
    "len(y_pred)"
   ]
  },
  {
   "cell_type": "markdown",
   "metadata": {},
   "source": [
    "# Prediction"
   ]
  },
  {
   "cell_type": "code",
   "execution_count": 147,
   "metadata": {},
   "outputs": [
    {
     "data": {
      "image/png": "[encoded data removed]",
      "text/plain": [
       "<Figure size 1000x600 with 1 Axes>"
      ]
     },
     "metadata": {},
     "output_type": "display_data"
    }
   ],
   "source": [
    "plt.figure(figsize=(10, 6))\n",
    "plt.scatter(X, y, color=\"blue\", label=\"Actual Salary Data\")\n",
    "plt.plot(X, y_pred, color=\"red\", label=\"Predicted Salary (Regression Line)\")\n",
    "plt.xlabel(\"Years of Experience\")\n",
    "plt.ylabel(\"Salary\")\n",
    "plt.title(\"Salary vs. Years of Experience (Linear Regression)\")\n",
    "plt.legend()\n",
    "plt.show()"
   ]
  },
  {
   "cell_type": "markdown",
   "metadata": {},
   "source": [
    "# Get training Weights"
   ]
  },
  {
   "cell_type": "code",
   "execution_count": 148,
   "metadata": {},
   "outputs": [
    {
     "data": {
      "text/plain": [
       "[array([[-0.7870856 ,  0.3254503 ,  0.16663443,  0.19832253]],\n",
       "       dtype=float32),\n",
       " array([-0.01128397, -0.08101228,  0.04775666,  0.09877315], dtype=float32)]"
      ]
     },
     "execution_count": 148,
     "metadata": {},
     "output_type": "execute_result"
    }
   ],
   "source": [
    "model.layers[0].get_weights()"
   ]
  },
  {
   "cell_type": "code",
   "execution_count": 149,
   "metadata": {},
   "outputs": [
    {
     "name": "stdout",
     "output_type": "stream",
     "text": [
      "[array([[-0.7870856 ,  0.3254503 ,  0.16663443,  0.19832253]],\n",
      "      dtype=float32), array([-0.01128397, -0.08101228,  0.04775666,  0.09877315], dtype=float32)]\n",
      "[array([[-0.03638111],\n",
      "       [ 0.67674583],\n",
      "       [-0.3426787 ],\n",
      "       [-0.73171234]], dtype=float32), array([-0.1280578], dtype=float32)]\n"
     ]
    }
   ],
   "source": [
    "for layers in model.layers:\n",
    "    print(layers.get_weights())"
   ]
  },
  {
   "cell_type": "markdown",
   "metadata": {},
   "source": [
    "# Evaluate the model"
   ]
  },
  {
   "cell_type": "code",
   "execution_count": 150,
   "metadata": {},
   "outputs": [
    {
     "name": "stdout",
     "output_type": "stream",
     "text": [
      "1/1 [==============================] - 0s 31ms/step - loss: 0.8047 - accuracy: 0.0000e+00\n",
      "Test Loss: [0.8046658635139465, 0.0]\n"
     ]
    }
   ],
   "source": [
    "\n",
    "loss = model.evaluate(X_test, y_test)\n",
    "print('Test Loss:', loss)"
   ]
  },
  {
   "cell_type": "markdown",
   "metadata": {},
   "source": [
    "# Metrics"
   ]
  },
  {
   "cell_type": "code",
   "execution_count": 151,
   "metadata": {},
   "outputs": [
    {
     "name": "stdout",
     "output_type": "stream",
     "text": [
      "1/1 [==============================] - 0s 35ms/step\n"
     ]
    }
   ],
   "source": [
    "y_pred = model.predict(X_test)"
   ]
  },
  {
   "cell_type": "markdown",
   "metadata": {},
   "source": [
    "# Evaluate"
   ]
  },
  {
   "cell_type": "code",
   "execution_count": 152,
   "metadata": {},
   "outputs": [],
   "source": [
    "from sklearn.metrics import r2_score,mean_absolute_error,mean_squared_error\n",
    "import numpy as np"
   ]
  },
  {
   "cell_type": "code",
   "execution_count": 153,
   "metadata": {},
   "outputs": [
    {
     "name": "stdout",
     "output_type": "stream",
     "text": [
      "The R2 error is : -0.03645413820934729\n"
     ]
    }
   ],
   "source": [
    "r_squared = r2_score(y_test,y_pred)\n",
    "print(\"The R2 error is :\", r_squared)"
   ]
  },
  {
   "cell_type": "code",
   "execution_count": 154,
   "metadata": {},
   "outputs": [
    {
     "data": {
      "text/plain": [
       "0.8046659420271642"
      ]
     },
     "execution_count": 154,
     "metadata": {},
     "output_type": "execute_result"
    }
   ],
   "source": [
    "mean_absolute_error(y_test,y_pred)"
   ]
  },
  {
   "cell_type": "code",
   "execution_count": 155,
   "metadata": {},
   "outputs": [
    {
     "data": {
      "text/plain": [
       "1.0444943098887303"
      ]
     },
     "execution_count": 155,
     "metadata": {},
     "output_type": "execute_result"
    }
   ],
   "source": [
    "mean_squared_error(y_test,y_pred)"
   ]
  },
  {
   "cell_type": "markdown",
   "metadata": {},
   "source": [
    "# Visualize"
   ]
  },
  {
   "cell_type": "code",
   "execution_count": 156,
   "metadata": {},
   "outputs": [],
   "source": [
    "from tensorflow.keras.models import Model"
   ]
  },
  {
   "cell_type": "markdown",
   "metadata": {},
   "source": [
    "# Activation from Each Layer"
   ]
  },
  {
   "cell_type": "code",
   "execution_count": 157,
   "metadata": {},
   "outputs": [],
   "source": [
    "def get_activations(model, layer_name, X):\n",
    "    layer = model.get_layer(name=layer_name)\n",
    "    activation_model = Model(inputs=model.input, outputs=layer.output)\n",
    "    activations = activation_model.predict(X, verbose=False)\n",
    "    print(activations)\n",
    "    return activations\n"
   ]
  },
  {
   "cell_type": "code",
   "execution_count": 158,
   "metadata": {},
   "outputs": [],
   "source": [
    "def plot_activations(layer_name, activations):\n",
    "    print(f\"Layer: {layer_name}\")\n",
    "    print(f\"Activation Shape: {activations.shape}\")\n",
    "\n",
    "    if len(activations.shape) == 2:\n",
    "        # 2D activations (Dense layers)\n",
    "        plt.figure(figsize=(10, 5))\n",
    "        plt.bar(range(activations.shape[1]), activations[0], color='skyblue')\n",
    "        plt.title(f'Activations of {layer_name}')\n",
    "        plt.xlabel('Neurons')\n",
    "        plt.ylabel('Activation')\n",
    "        plt.grid(True)\n",
    "        plt.show()\n",
    "    \n",
    "    elif len(activations.shape) == 3:\n",
    "        # 3D activations (Convolutional layers)\n",
    "        num_channels = activations.shape[-1]\n",
    "        for i in range(num_channels):\n",
    "            plt.figure(figsize=(10, 5))\n",
    "            plt.imshow(activations[0, :, :, i], aspect='auto', cmap='viridis')\n",
    "            plt.colorbar()\n",
    "            plt.title(f'Activations of {layer_name} - Channel {i}')\n",
    "            plt.xlabel('Width')\n",
    "            plt.ylabel('Height')\n",
    "            plt.show()\n",
    "\n",
    "    elif len(activations.shape) == 4:\n",
    "        # 4D activations (Batches of 3D data, e.g., convolutional layers)\n",
    "        num_samples = activations.shape[1]\n",
    "        for i in range(num_samples):\n",
    "            plt.figure(figsize=(10, 5))\n",
    "            plt.imshow(activations[0, i, :, :], aspect='auto', cmap='viridis')\n",
    "            plt.colorbar()\n",
    "            plt.title(f'Activations of {layer_name} - Sample {i}')\n",
    "            plt.xlabel('Width')\n",
    "            plt.ylabel('Height')\n",
    "            plt.show()\n",
    "\n",
    "    else:\n",
    "        print(f\"Activation shape {activations.shape} not supported for visualization\")"
   ]
  },
  {
   "cell_type": "code",
   "execution_count": 159,
   "metadata": {},
   "outputs": [
    {
     "name": "stdout",
     "output_type": "stream",
     "text": [
      "[[-0.5152855   0.12738621  0.15445918  0.22576678]]\n",
      "Layer: dense_8\n",
      "Activation Shape: (1, 4)\n"
     ]
    },
    {
     "data": {
      "image/png": "[encoded data removed]",
      "text/plain": [
       "<Figure size 1000x500 with 1 Axes>"
      ]
     },
     "metadata": {},
     "output_type": "display_data"
    },
    {
     "name": "stdout",
     "output_type": "stream",
     "text": [
      "[[0.43998343]]\n",
      "Layer: dense_9\n",
      "Activation Shape: (1, 1)\n"
     ]
    },
    {
     "data": {
      "image/png": "[encoded data removed]",
      "text/plain": [
       "<Figure size 1000x500 with 1 Axes>"
      ]
     },
     "metadata": {},
     "output_type": "display_data"
    }
   ],
   "source": [
    "layer_names = [layer.name for layer in model.layers]\n",
    "\n",
    "X_sample = X_train[23]\n",
    "X_sample = np.expand_dims(X_sample, axis=0)  \n",
    "\n",
    "for layer_name in layer_names:\n",
    "    activations = get_activations(model, layer_name, X_sample)\n",
    "    plot_activations(layer_name, activations)"
   ]
  },
  {
   "cell_type": "code",
   "execution_count": 160,
   "metadata": {},
   "outputs": [
    {
     "name": "stdout",
     "output_type": "stream",
     "text": [
      "[[ 0.35919476 -0.23420072 -0.03067764  0.00542336]]\n",
      "Layer: dense_8\n",
      "Activation Shape: (1, 4)\n"
     ]
    },
    {
     "data": {
      "image/png": "[encoded data removed]",
      "text/plain": [
       "<Figure size 1000x500 with 1 Axes>"
      ]
     },
     "metadata": {},
     "output_type": "display_data"
    },
    {
     "name": "stdout",
     "output_type": "stream",
     "text": [
      "[[0.42725104]]\n",
      "Layer: dense_9\n",
      "Activation Shape: (1, 1)\n"
     ]
    },
    {
     "data": {
      "image/png": "[encoded data removed]",
      "text/plain": [
       "<Figure size 1000x500 with 1 Axes>"
      ]
     },
     "metadata": {},
     "output_type": "display_data"
    }
   ],
   "source": [
    "layer_names = [layer.name for layer in model.layers]\n",
    "\n",
    "X_sample = X_train[11]\n",
    "X_sample = np.expand_dims(X_sample, axis=0)  \n",
    "\n",
    "for layer_name in layer_names:\n",
    "    activations = get_activations(model, layer_name, X_sample)\n",
    "    plot_activations(layer_name, activations)"
   ]
  },
  {
   "cell_type": "code",
   "execution_count": null,
   "metadata": {},
   "outputs": [],
   "source": []
  }
 ],
 "metadata": {
  "kernelspec": {
   "display_name": "neelgai",
   "language": "python",
   "name": "python3"
  },
  "language_info": {
   "codemirror_mode": {
    "name": "ipython",
    "version": 3
   },
   "file_extension": ".py",
   "mimetype": "text/x-python",
   "name": "python",
   "nbconvert_exporter": "python",
   "pygments_lexer": "ipython3",
   "version": "3.8.20"
  }
 },
 "nbformat": 4,
 "nbformat_minor": 2
}
